{
 "cells": [
  {
   "cell_type": "markdown",
   "id": "809a0601-216c-4e99-8942-0842f2bd9cb7",
   "metadata": {},
   "source": [
    "# Forward-time simulation with tskit\n",
    "\n",
    "This tutorial shows the basics of creating a basic forward-time simulator that stores the evolving genealogy as a [tskit](https://tskit.dev/) tree sequence. We will focus on the case of diploids, in which each individual contains 2 genomes, but the concepts used here generalize to any ploidy, if you are willing to do the book-keeping! \n",
    "\n",
    ":::{note}\n",
    "The distinction between an *individual* and the *genomes* it contains is an important one. In fact, individuals are not strictly necessary for representing genetic genealogies (it's the genomes which are important), but the simulator needs to account for individuals, at least temporarily.\n",
    ":::\n",
    "\n",
    "## Definitions\n",
    "\n",
    "Before we can make any progress, we require a few definitions.\n",
    "\n",
    "A *node* represents a genome at a point in time (often we imagine this as the \"birth time\" of the genome).  It can be described by a tuple, `(id, time)`, where `id` is a unique integer, and `time` reflects the birth time of that `id`. When generating a tree sequence, this will be stored in a row of the [node table](https://tskit.dev/tskit/docs/stable/data-model.html#node-table).\n",
    "\n",
    "A *diploid individual* is a group of two nodes. During simulation, a simple and efficient grouping assigns sequential pairs of node IDs to an individual. It can be helpful (but not strictly necessary) to store individuals within the tree sequence as rows of the the [individual table](https://tskit.dev/tskit/docs/stable/data-model.html#individual-table) (a node can then be assigned to an individual by storing that individual's id in the appropriate row of the node table).\n",
    "\n",
    "An *edge* reflects a transmission event between nodes.  An edge is a tuple `(Left, Right, Parent, Child)` whose meaning is \"Parent genome $P$ passed on the genomic interval $[L, R)$ to child genome $C$\". In a tree sequence this is stored in a row of the [edge table](https://tskit.dev/tskit/docs/stable/data-model.html#edge-table)\n",
    "\n",
    "The *time*, in the discrete-time Wright-Fisher (WF) model which we will simulate, is measured in integer generations. To match the tskit notion of time, we record time in *generations ago*: i.e. for a simple simulation of G generations, we start the simulation at generation $G-1$ and count down until we reach generation 0 (the current-day).\n",
    "\n",
    "The *population* consists of $N$ diploid individuals ($2N$ nodes) at a particular time $t$. At the start, the population will have no known ancestry, but subsequently, each individual will be formed by choosing (at random) two parent individuals from the population in the previous generation.\n",
    "\n",
    "\n",
    "## Approach\n",
    "\n",
    "The goal of this tutorial is to work through the book-keeping required to generate edges, nodes, and individuals forwards in time, adding them to the relevant `tskit` tables. To aid efficiency, we will also see how to \"simplify\" the tables into the minimal set of nodes and edges that describe the history of the sample. Finally, these tables can be exported into an immutable [tree sequence](https://tskit.dev/tutorials/what_is.html) for storing or analysis.\n",
    "\n",
    "### Setup\n",
    "First, we'll import the necessary libraries and define some general parameters. The [numpy](https://numpy.org/doc/stable/) library will be used to produce random numbers."
   ]
  },
  {
   "cell_type": "code",
   "execution_count": null,
   "id": "8efc69d8-d7c5-4ec8-ba0a-5979bf70e0a5",
   "metadata": {},
   "outputs": [],
   "source": [
    "import tskit\n",
    "import numpy as np\n",
    "\n",
    "random_seed = 123\n",
    "random = np.random.default_rng(random_seed)  # A random number generator for general use\n",
    "\n",
    "diploid_population_size = 6  # We can make this bigger later\n",
    "sequence_length = 50_000  # 50 Kb"
   ]
  },
  {
   "cell_type": "markdown",
   "id": "8090e83b-ad1a-438a-9527-a42e1366e076",
   "metadata": {},
   "source": [
    "## Simulation without recombination\n",
    "\n",
    "We'll start by simulating a small region of a larger genome (e.g. a \"gene\", or a portion of a gene).\n",
    "We will assume the region is small enough that there is no recombination. The first building block\n",
    "is to define how one of the child's genomes in our simulation, say the\n",
    "maternal one, is created from the two genomes that were present in the individual mother. With no recombination, we can simply pick one of the mother's genomes at random, and save the inheritance paths in the [edge table](https://tskit.dev/tskit/docs/stable/data-model.html#edge-table). We can then call the same function for the paternal genome."
   ]
  },
  {
   "cell_type": "code",
   "execution_count": null,
   "id": "e459bd36-5110-49fe-9760-5b1d4e94491c",
   "metadata": {},
   "outputs": [],
   "source": [
    "focal_region = [20_000, 21_000]\n",
    "def add_inheritance_paths(tables, parent_genomes, child_genome):\n",
    "    \"Add inheritance paths from a randomly chosen parent genome to the child genome\"\n",
    "    left, right = focal_region  # only define inheritance in this focal region\n",
    "    inherit_from = random.integers(2)  # randomly chose 0 or 1\n",
    "    tables.edges.add_row(left, right, parent_genomes[inherit_from], child_genome)\n",
    "\n",
    "# Should we test this routine somehow?"
   ]
  },
  {
   "cell_type": "markdown",
   "id": "bc911f07-de41-42ba-bb24-2f2ccef01b37",
   "metadata": {},
   "source": [
    "The function that generates a new population will repeats the following steps:\n",
    "1. create a new child individual and two genomes (the individual ID will be created by adding a row to the [individual table](https://tskit.dev/tskit/docs/stable/data-model.html#sec-individual-table-definition) and two nodes IDs will be created by adding two rows to the [node table](https://tskit.dev/tskit/docs/stable/data-model.html#node-table)).\n",
    "2. Select parents for the two genomes\n",
    "3. Add the inheritance paths for each genome using the `add_inheritance_paths()` function we just created\n",
    "\n",
    "For convenience, we keep the population stored in a Python dictionary which maps the individual ID to the IDs of its two genomes."
   ]
  },
  {
   "cell_type": "code",
   "execution_count": null,
   "id": "243a9974-8049-4843-90a2-f73e40547492",
   "metadata": {},
   "outputs": [],
   "source": [
    "def new_population(tables, time, prev_population=None) -> dict:\n",
    "    \"\"\"\n",
    "    Returns a Python dict of length `diploid_population_size` representing a population,\n",
    "    optionally derived from a prev_population of the same form. Populations look like\n",
    "    {individual_ID: (maternal_genome_ID, paternal_genome_ID), ...}\n",
    "    \"\"\"\n",
    "    new_population = {}\n",
    "    if prev_population is not None:\n",
    "        # For efficiency, cache an array of individual IDs from the prev population\n",
    "        prev_individuals = np.array([i for i in prev_population], dtype=np.int32)\n",
    "\n",
    "    for _ in range(diploid_population_size):\n",
    "        # 1. Pick two individual parent IDs at random, `replace=True` allows selfing\n",
    "        if prev_population:\n",
    "            parent_individual_ids = random.choice(prev_individuals, 2, replace=True)\n",
    "        else:\n",
    "            parent_individual_ids = None\n",
    "\n",
    "        # 2. Get a new individual ID and two new genome IDs\n",
    "        i = tables.individuals.add_row(parents=parent_individual_ids)\n",
    "        child_genomes = (\n",
    "            tables.nodes.add_row(tskit.NODE_IS_SAMPLE, time, individual=i),\n",
    "            tables.nodes.add_row(tskit.NODE_IS_SAMPLE, time, individual=i),\n",
    "        )\n",
    "        new_population[i] = child_genomes  # store the genome IDs\n",
    "        \n",
    "        if prev_population:\n",
    "            # 2. Pick two individual parent IDs at random, `replace=True` allows selfing\n",
    "            mother_and_father = random.choice(prev_individuals, 2, replace=True)\n",
    "            for child_genome, parent_individual in zip(child_genomes, mother_and_father):\n",
    "                parent_genomes = prev_population[parent_individual]\n",
    "                # 3. Add inheritance paths\n",
    "                add_inheritance_paths(tables, parent_genomes, child_genome)\n",
    "    return new_population"
   ]
  },
  {
   "cell_type": "markdown",
   "id": "25cf5c6c-c9df-409a-8b0b-1d2f33c14d67",
   "metadata": {},
   "source": [
    "<div class=\"alert alert-block alert-info\">\n",
    "    <b>Note:</b> \n",
    "For simplicity, the code above assumes any parent can be a mother or a father (i.e. this is a hermaphrodite species). It also allows the same parent to be chosed as a mother and as a father (i.e. \"selfing\" is allowed), which gives simpler theoretical results. This is easy to change if required.\n",
    "</div>\n",
    "\n",
    "Our forward-in-time simulator simply involves repeatedly running the `new_population()` routine, replacing the old population with the new one. For efficiency reasons, `tskit` has strict requirements for the order of edges in the edge table, so we need to [sort](https://tskit.dev/tskit/docs/stable/python-api.html?highlight=sort#tskit.TableCollection.sort) the tables before we output the final tree sequence."
   ]
  },
  {
   "cell_type": "code",
   "execution_count": null,
   "id": "e223c5a4-e27e-4bf9-af2b-35cc819d05d8",
   "metadata": {},
   "outputs": [],
   "source": [
    "def simple_diploid_sim(generations) -> tskit.TreeSequence:\n",
    "    tables = tskit.TableCollection(sequence_length)\n",
    "    tables.time_units = \"generations\"  # optional, but helpful when plotting\n",
    "\n",
    "    population = new_population(tables, generations)  # initial population\n",
    "    while generations > 0:\n",
    "        generations = generations - 1\n",
    "        population = new_population(tables, generations, population)\n",
    "\n",
    "    tables.sort()\n",
    "    return tables.tree_sequence()\n",
    "\n",
    "\n",
    "### Test it for a single generation\n",
    "ts = simple_diploid_sim(generations=1)\n",
    "ts.draw_svg(y_axis=True, size=(500, 200))"
   ]
  },
  {
   "cell_type": "code",
   "execution_count": null,
   "id": "2892c7ca-3312-4a35-9fbb-4556e68b8713",
   "metadata": {},
   "outputs": [],
   "source": []
  },
  {
   "cell_type": "markdown",
   "id": "2e3ee05e-dda8-4451-96b4-1f1dfe3f9ac3",
   "metadata": {},
   "source": [
    "It looks like it is working correctly: all 12 genomes in the current generation (time=0) trace back to a genome in the initial generation (time=1). Note that not all individuals in the initial generation have passed on genetic material at this genomic position (they appear as isolated nodes at the top of the plot).\n",
    "\n",
    "Now let's simulate for a longer time period, and set a few helpful plotting parameters.\n",
    "\n",
    ":::{note}\n",
    "By convention we plot the most recent generation at the bottom of the plot (i.e. perversely, each \"tree\" has leaves towards the bottom, and roots at the top)\n",
    ":::"
   ]
  },
  {
   "cell_type": "code",
   "execution_count": null,
   "id": "821cc710-98b0-4b31-8222-933d36b7262e",
   "metadata": {},
   "outputs": [],
   "source": [
    "ts = simple_diploid_sim(generations=15)\n",
    "\n",
    "\n",
    "graphics_params = {\n",
    "    \"y_axis\": True,\n",
    "    \"y_label\": f\"Time ({ts.time_units} ago)\",\n",
    "    \"y_ticks\": {i: 'Current' if i==0 else str(i) for i in range(16)},\n",
    "}\n",
    "ts.draw_svg(size=(1200, 350), **graphics_params)"
   ]
  },
  {
   "cell_type": "markdown",
   "id": "0f20a8aa-2138-4575-9f78-5f3e4306664f",
   "metadata": {},
   "source": [
    "This is starting to look like a real genealogy! But you can see that there are a lot of lineages that have not made it to the current day..."
   ]
  },
  {
   "cell_type": "markdown",
   "id": "88692626-a997-4df7-a72d-00ac9cf8a158",
   "metadata": {},
   "source": [
    "## Simplification\n",
    "\n",
    "The key to efficent forward-time genealogical simulation is the process of [simplification]((https://tskit.dev/tutorials/simplification.html)), which can reduce much of the complexity shown in the tree above. Typically, we want to remove all the lineages that do not contribute to the current day genomes. We do this via the :meth:`~tskit.TreeSequence.simplify` method, specifying that only the nodes in the current generation are \"samples\"."
   ]
  },
  {
   "cell_type": "code",
   "execution_count": null,
   "id": "1a43596e-71ad-4c81-80e6-2cd3bdf3a842",
   "metadata": {},
   "outputs": [],
   "source": [
    "current_day_genomes = ts.samples(time=0)\n",
    "simplified_ts = ts.simplify(current_day_genomes, keep_unary=True, filter_nodes=False)\n",
    "simplified_ts.draw_svg(size=(600, 300), **graphics_params)"
   ]
  },
  {
   "cell_type": "markdown",
   "id": "fe3b3844-3c0d-4543-8ff0-cb2fb90297af",
   "metadata": {},
   "source": [
    "### ID changes\n",
    "\n",
    "We just simplified with `filter_nodes=False`, meaning that the tree sequence retained all nodes even after simplification. However, many nodes are not longer part of the genealogy; removing them means we can store fewer nodes (although it will change the node IDs)."
   ]
  },
  {
   "cell_type": "code",
   "execution_count": null,
   "id": "5371e4c5-00f8-434d-9a5b-6687f86d6c8b",
   "metadata": {},
   "outputs": [],
   "source": [
    "simplified_ts = ts.simplify(current_day_genomes, keep_unary=True)\n",
    "simplified_ts.draw_svg(size=(600, 300), **graphics_params)"
   ]
  },
  {
   "cell_type": "markdown",
   "id": "6fb8678e-e836-40d5-a5a8-e1382040a3dc",
   "metadata": {},
   "source": [
    "Note that the list of nodes passed to `simplify` (i.e. the current-day genomes) have become the first nodes in the table, numbered from 0..11, and the remaining nodes have been renumbered from youngest to oldest."
   ]
  },
  {
   "cell_type": "markdown",
   "id": "46916da4-7486-4d99-8ec0-3b04ea8798b0",
   "metadata": {},
   "source": [
    "### Extra node removal\n",
    "\n",
    "The `keep_unary=True` parameter meant that we kept intermediate (\"unary\") nodes, even those that do not not represent branch-points in the tree. Often these are also unneeded, and by default we remove those too; this will mean that the node IDs of older nodes will change again"
   ]
  },
  {
   "cell_type": "code",
   "execution_count": null,
   "id": "5103bba7-1da4-4803-81ae-3844b58ade08",
   "metadata": {},
   "outputs": [],
   "source": [
    "simplified_ts = ts.simplify(current_day_genomes)\n",
    "simplified_ts.draw_svg(size=(400, 300), y_axis=True)"
   ]
  },
  {
   "cell_type": "markdown",
   "id": "5e0c0dca-ec10-40de-9788-39146383e42b",
   "metadata": {},
   "source": [
    "This is now looking much more like a \"normal\" genetic genealogy (a \"gene tree\"), in which all the sample genomes trace back to a single common ancestor.\n",
    "\n",
    "## Multiple roots\n",
    "\n",
    "If we run the simulation for fewer generations, we are not guaranteed to create genomes that share a common ancestor within the timeframe of our simulation."
   ]
  },
  {
   "cell_type": "code",
   "execution_count": null,
   "id": "eaaa3c58-a1fa-4358-85c1-3b3ba67d0786",
   "metadata": {},
   "outputs": [],
   "source": [
    "ts = simple_diploid_sim(generations=5)\n",
    "ts.draw_svg(size=(700, 200), y_axis=True)"
   ]
  },
  {
   "cell_type": "markdown",
   "id": "6ed713eb-975a-4ee5-b2ab-f7f1282fedd4",
   "metadata": {},
   "source": [
    "Even the simplified version doesn't look quite like a normal \"tree\", as it contains several unlinked topologies. In `tskit` we call this a single tree with [multiple roots]():"
   ]
  },
  {
   "cell_type": "code",
   "execution_count": null,
   "id": "0f9cec67-cb83-43ce-adce-75551bdff002",
   "metadata": {},
   "outputs": [],
   "source": [
    "simplified_ts = ts.simplify(ts.samples(time=0))\n",
    "simplified_ts.draw_svg(size=(700, 200), y_axis=True)"
   ]
  },
  {
   "cell_type": "markdown",
   "id": "321aaf36-b757-44cc-b838-dc6505f64607",
   "metadata": {},
   "source": [
    "When a forward-simulated tree has multiple roots, it can be useful to retain relevant lineages all the way back to the start of the simulation. This can be done using the `keep_input_roots` option:"
   ]
  },
  {
   "cell_type": "code",
   "execution_count": null,
   "id": "21dbcb15-18bb-4f6b-8351-66b6afddac67",
   "metadata": {},
   "outputs": [],
   "source": [
    "simplified_ts = ts.simplify(ts.samples(time=0), keep_input_roots=True)\n",
    "simplified_ts.draw_svg(size=(700, 200), y_axis=True)"
   ]
  },
  {
   "cell_type": "markdown",
   "id": "78acc7f3-c3e1-4144-98ef-68055444c9bb",
   "metadata": {},
   "source": [
    "## Recombination\n",
    "\n",
    "It is relatively easy to modify the simulation code to allow recombination. All we need to do is to redefine the `add_inheritance_paths()` function, so that the child inherits a mosaic of the two genomes present in each parent.\n",
    "\n",
    "Below is a redefined function which selects a set of \"breakpoints\" along the genome. It then allocates the first edge from zero to breakpoint 1 pointing it to one parent genome, and then allocates a second edge from breakpoint 1 onwards pointing to the other parent genome. If there is a second breakpoint, a third edge is created from breakpoint 2 to the next breakpoint that points back to the initial parent genome, and so forth, up to the end of the sequence. Biologically, recombination rates are such that they usually result in a relatively small number of breakpoints per chromosome (in humans, around 1 or 2).\n",
    "\n",
    ":::{note}\n",
    "Here we chose breakpoint positions in continuous space (\"infinite breakpoint positions\"), to match population genetic theory, although it is relatively easy to alter this to recombinations at integer positions\n",
    ":::"
   ]
  },
  {
   "cell_type": "code",
   "execution_count": null,
   "id": "adf9a89c-e409-42b7-b5fd-4056a578d337",
   "metadata": {},
   "outputs": [],
   "source": [
    "recombination_rate = 5e-7\n",
    "\n",
    "def add_inheritance_paths(tables, parent_genomes, child_genome):\n",
    "    \"Add paths from parent genomes to the child genome, with crossover recombination\"\n",
    "    L = tables.sequence_length\n",
    "    num_recombinations = random.poisson(recombination_rate * L)\n",
    "    breakpoints = random.uniform(0, L, size=num_recombinations)\n",
    "    breakpoints = np.concatenate(([0], np.unique(breakpoints), [L]))\n",
    "    inherit_from = random.integers(2)  # starting parental genome\n",
    "\n",
    "    # iterate over pairs of ([0, b1], [b1, b2], [b2, b3], ... [bN, L])\n",
    "    for left, right in zip(breakpoints[:-1], breakpoints[1:]):\n",
    "        tables.edges.add_row(\n",
    "            left, right, parent_genomes[inherit_from], child_genome)\n",
    "        inherit_from = 1 - inherit_from  # switch to other parent genome\n",
    "\n",
    "\n",
    "# Simulate a few generations, for testing\n",
    "ts = simple_diploid_sim(generations=5)  # Now includes recombination\n",
    "ts  # Show the tree sequence"
   ]
  },
  {
   "cell_type": "markdown",
   "id": "68534ac7-b0dc-48b7-9abd-54f6d4337070",
   "metadata": {},
   "source": [
    "You can see that recombination has lead to more than one tree. In fact, there are 2 \"local\" trees along the genome. Here's how the full (unsimplified) genealogy looks:"
   ]
  },
  {
   "cell_type": "code",
   "execution_count": null,
   "id": "195f16ec-d4c6-415c-a4c3-27bd31b43c6e",
   "metadata": {},
   "outputs": [],
   "source": [
    "ts.draw_svg(size=(1000, 300), **graphics_params)"
   ]
  },
  {
   "cell_type": "markdown",
   "id": "99c7662b-4c3a-482b-9c59-c2701f50af9c",
   "metadata": {},
   "source": [
    "This is rather confusing to visualise, and will get even worse if we simulate more generations. However, even with more generations, the act of simplification allows us to to reduce the genealogy to something more managable, both for analysis and for visualization:"
   ]
  },
  {
   "cell_type": "code",
   "execution_count": null,
   "id": "90966b89-a2ed-460d-8581-95cdbb7293a4",
   "metadata": {},
   "outputs": [],
   "source": [
    "ts = simple_diploid_sim(generations=50)\n",
    "simplified_ts = ts.simplify(ts.samples(time=0), keep_input_roots=True)\n",
    "graphics_params[\"y_ticks\"] = [0, 10, 20, 30, 40 ,50]\n",
    "simplified_ts.draw_svg(size=(1000, 300), time_scale=\"log_time\", **graphics_params)"
   ]
  },
  {
   "cell_type": "markdown",
   "id": "75d9fb5d-5065-4f51-8954-4f1fd2d56723",
   "metadata": {},
   "source": [
    "### Subsampling the population\n",
    "\n",
    "We have only simulated a relatively small population size (6 diploids). We can easily simulate a much larger population by setting the global `diploid_population_size` variable to (say) 500. The resulting simplified tree sequence will be reasonably small in terms of disk and memory storage, but will be problematic to visualise.\n",
    "\n",
    "This is where `simplify` can come in handy again: in this case, we can use it to reduce the genealogy to a handful of (hopefully representative) current-day genomes, or possibly a handful of current-day individuals (i.e. retaining both genomes from a randomly selected set of individuals:"
   ]
  },
  {
   "cell_type": "code",
   "execution_count": null,
   "id": "27377988-ccae-4ebb-a868-4d4154ba297e",
   "metadata": {},
   "outputs": [],
   "source": [
    "diploid_population_size = 250\n",
    "gens = 500\n",
    "large_ts = simple_diploid_sim(generations=gens) # May take a minute or two\n",
    "print(\n",
    "    f\"Finished simulating {diploid_population_size} individuals\",\n",
    "    f\"({diploid_population_size * 2} genomes)\",\n",
    "    f\"for {gens} generations\",\n",
    ")"
   ]
  },
  {
   "cell_type": "code",
   "execution_count": null,
   "id": "3b98eebb-a435-4c5a-9559-1e5aa73d1650",
   "metadata": {},
   "outputs": [],
   "source": [
    "print(f\"Full tree sequence including dead lineages: {large_ts.nbytes/1024/1024:.2f} MB\")\n",
    "current_day_genomes = large_ts.samples(time=0)\n",
    "simplified_ts = large_ts.simplify(current_day_genomes, keep_input_roots=True)\n",
    "print(\n",
    "    f\"Tree sequence of current-day individuals: {simplified_ts.nbytes/1024/1024:.2f} MB,\",\n",
    "    f\"{simplified_ts.num_trees} trees.\"\n",
    ")"
   ]
  },
  {
   "cell_type": "markdown",
   "id": "cee2857e-b950-4e4a-b08a-7662ceba3546",
   "metadata": {},
   "source": [
    "Even the simplified genealogy will consist of hundreds of trees, each with a thousand tips. One way to reduce this for plotting is to select a set of genomes from randomly chosen current-day individuals, and plot only a small region. See the [visualization tutorial](https://tskit.dev/tutorials/viz.html) for other options."
   ]
  },
  {
   "cell_type": "code",
   "execution_count": null,
   "id": "b5a14cde-c9c8-4416-8762-faf56cd116e7",
   "metadata": {},
   "outputs": [],
   "source": [
    "# Select e.g. 6 randomly chosen individuals for display purposes\n",
    "# NB: understanding the code below requires some knowledge of numpy\n",
    "current_day_individuals = simplified_ts.nodes_individual[simplified_ts.samples()]\n",
    "use = random.choice(np.unique(current_day_individuals), 6, replace=False)  # Chose 6\n",
    "print(\"Plotting individuals with these IDs in the simplified ts:\", use)\n",
    "\n",
    "# Find the genomes corresponding to these individuals\n",
    "genomes_to_use = np.isin(simplified_ts.nodes_individual, use)\n",
    "selected_genomes = np.where(genomes_to_use)[0]\n",
    "print(\"These correspond to the genomes with these IDs:\", selected_genomes)\n",
    "\n",
    "representative_ts = simplified_ts.simplify(\n",
    "    selected_genomes,\n",
    "    keep_input_roots=True,\n",
    "    filter_nodes=False,  # Keep the node IDs of the simplified_ts, to compare\n",
    ")\n",
    "\n",
    "# plot a short region of genome, using some plot tweaks\n",
    "representative_ts.draw_svg(\n",
    "    size=(1000, 300),\n",
    "    x_lim=[10_000, 11_000],\n",
    "    y_axis=True,\n",
    "    time_scale=\"log_time\",\n",
    "    y_ticks = [0, 1, 2, 5, 10, 20, 50, 100, 200, 500, 1000],\n",
    "    style=(\n",
    "        \".node > .lab {font-size: 80%}\"\n",
    "        \".leaf > .lab {text-anchor: start; transform: rotate(90deg) translate(6px)}\"\n",
    "    )\n",
    ")"
   ]
  },
  {
   "cell_type": "markdown",
   "id": "151f82d1-9145-463f-a89d-f7c0340a0781",
   "metadata": {},
   "source": [
    "## Ensuring coalescence\n",
    "\n",
    "You can see that some of these strees still have multiple roots. In other words, 1000 generations is not long enough to capture the ancestry back to a single common ancestor (i.e. to ensure \"full coalescence\" of all local trees). If the local trees have not all coalesced, then the simulation will be failing to capture the entire genetic diversity within the sample. Moreover, the larger the populations, the longer the time needed to ensure that the full genealogy is captured. For large models, time period required for forward simulations to ensure full coalescence can be prohibitive.\n",
    "\n",
    "A powerful way to get around this problem is *recapitation*, in which an alternative technique, such as backward-in-time coalescent simulation is used to to fill in the \"head\" of the tree sequence. In other words, we use a fast backward-time simulator such as `msprime` to simulate the genealogy of the oldest nodes in the simplified tree sequence. To see how this is done, consult the [recapitation tutorial]."
   ]
  },
  {
   "cell_type": "markdown",
   "id": "7cd12981-fbf5-47c2-8292-7403e992f578",
   "metadata": {},
   "source": [
    "## More complex forward-simulations\n",
    "\n",
    "The next tutorial shows the principles behind more complex simulations, e.g. including regular simplification during the simulation, adding mutations, and adding metadata. It also details several extra tips and tricks we have learned when building forward simulators."
   ]
  },
  {
   "cell_type": "code",
   "execution_count": null,
   "id": "3c26b290-e317-45f8-959f-737977e31a5c",
   "metadata": {},
   "outputs": [],
   "source": [
    "random.integers(100)"
   ]
  },
  {
   "cell_type": "code",
   "execution_count": null,
   "id": "700079fc-390d-4126-a03c-7364395339fe",
   "metadata": {},
   "outputs": [],
   "source": [
    "d = dict((i, 2) for i in range(10))"
   ]
  },
  {
   "cell_type": "code",
   "execution_count": null,
   "id": "9a4dbdf4-2c22-4b0b-b5e2-d16cd3c86320",
   "metadata": {},
   "outputs": [],
   "source": [
    "ts.simplify(list(d.keys()))"
   ]
  },
  {
   "cell_type": "code",
   "execution_count": null,
   "id": "2b574f9e-b18c-45c2-b829-090b252a1b06",
   "metadata": {},
   "outputs": [],
   "source": []
  },
  {
   "cell_type": "code",
   "execution_count": null,
   "id": "9e196739-b437-49ae-807e-0d3f0d608465",
   "metadata": {},
   "outputs": [],
   "source": []
  },
  {
   "cell_type": "code",
   "execution_count": null,
   "id": "4275400c-5ecc-4232-a02d-34410750ee3f",
   "metadata": {},
   "outputs": [],
   "source": []
  },
  {
   "cell_type": "code",
   "execution_count": null,
   "id": "8dd5909a-ec41-48fd-9776-213a8731b7bd",
   "metadata": {},
   "outputs": [],
   "source": [
    "tables.nodes.individual"
   ]
  },
  {
   "cell_type": "code",
   "execution_count": null,
   "id": "9205a5e5-ee33-4f19-8cac-3b3a2ab1bdea",
   "metadata": {},
   "outputs": [],
   "source": [
    "a"
   ]
  },
  {
   "cell_type": "code",
   "execution_count": null,
   "id": "ebd9be1b-e103-4ca2-924f-6fb7add6a9ae",
   "metadata": {},
   "outputs": [],
   "source": [
    "import tskit\n",
    "import numpy as np\n",
    "\n",
    "random_seed = 123\n",
    "random = np.random.default_rng(random_seed)  # A random number generator for general use\n",
    "\n",
    "diploid_pop_size = 6 \n",
    "sequence_length = 50_000  # 50 Kb\n",
    "recombination_rate = 5e-7  # Per base per generation\n",
    "\n",
    "def add_inheritance_paths(tables, parent_genomes, child_genome):\n",
    "    \"Add paths from parent genomes to the child genome, with crossover recombination\"\n",
    "    L = tables.sequence_length\n",
    "    num_recombinations = random.poisson(recombination_rate * L)\n",
    "    breakpoints = random.integers(0, L - 1, size=num_recombinations)\n",
    "    break_pos, counts = np.unique(breakpoints, return_counts=True)\n",
    "    crossovers = break_pos[counts % 2 == 1]  # no crossover if e.g. 2 breaks at same pos\n",
    "    left_positions = np.insert(crossovers, 0, 0)\n",
    "    right_positions = np.append(crossovers, L)\n",
    "\n",
    "    inherit_from = random.integers(2)\n",
    "    for left, right in zip(left_positions, right_positions):\n",
    "        tables.edges.add_row(\n",
    "            left, right, parent_genomes[inherit_from], child_genome)\n",
    "        inherit_from = 1 - inherit_from  # switch to other parent genome\n",
    "\n",
    "def make_diploid(tables, time, parent_individuals=None) -> tuple[int, tuple[int, int]]:\n",
    "    individual_id = tables.individuals.add_row(parents=parent_individuals)\n",
    "    return individual_id, (\n",
    "        tables.nodes.add_row(time=time, individual=individual_id),\n",
    "        tables.nodes.add_row(time=time, individual=individual_id),\n",
    "    )\n",
    "\n",
    "def new_pop(tables, time, prev_pop) -> dict[int, tuple[int, int]]:\n",
    "    pop = {}\n",
    "    prev_individuals = np.array([i for i in prev_pop.keys()], dtype=np.int32)\n",
    "    for _ in range(diploid_pop_size):\n",
    "        mother_and_father = random.choice(prev_individuals, 2, replace=True)\n",
    "        child_id, child_genomes = make_diploid(tables, time, mother_and_father)\n",
    "        pop[child_id] = child_genomes  # store the genome IDs\n",
    "        for child_genome, parent_individual in zip(child_genomes, mother_and_father):\n",
    "            add_inheritance_paths(tables, prev_pop[parent_individual], child_genome)\n",
    "    return pop\n",
    "\n",
    "def initialise_pop(tables, time) -> dict:\n",
    "    return dict(make_diploid(tables, time) for _ in range(diploid_pop_size))\n",
    "\n",
    "def simple_diploid_sim(generations) -> tskit.TreeSequence:\n",
    "    tables = tskit.TableCollection(sequence_length)\n",
    "    tables.time_units = \"generations\"  # optional, but helpful when plotting\n",
    "\n",
    "    pop = initialise_pop(tables, generations)\n",
    "    while generations > 0:\n",
    "        generations = generations - 1\n",
    "        pop = new_pop(tables, generations, pop)\n",
    "\n",
    "    tables.sort()\n",
    "    return tables.tree_sequence()\n"
   ]
  },
  {
   "cell_type": "code",
   "execution_count": null,
   "id": "a2d23a22-332c-4456-8a22-276e6c388691",
   "metadata": {},
   "outputs": [],
   "source": [
    "def simplify_tables(tables, samples, pop):\n",
    "    \"\"\"\n",
    "    Simplify the tables with respect to the given samples, and return a\n",
    "    population dictionary in which individual and nodes are remapped.\n",
    "\n",
    "    This is more involved than might be expected, because the mapping from old to new\n",
    "    individuals is not currently returned by `simplify`, so we need to make it ourselves\n",
    "    \"\"\"\n",
    "    old_nodes_individual = tables.nodes.individual\n",
    "\n",
    "    tables.sort()\n",
    "    node_map = tables.simplify(samples, keep_input_roots=True, record_provenance=False)\n",
    "    \n",
    "    # Make the map from old to new individuals\n",
    "    individual_map = {}\n",
    "    nodes_individual = tables.nodes.individual\n",
    "    for ind_id, (node1_id, node2_id) in pop.items():\n",
    "        old_ind_id = old_nodes_individual[node1_id]\n",
    "        assert nodes_individual[node_map[node1_id]] == nodes_individual[node_map[node2_id]]\n",
    "        individual_map[old_ind_id] = nodes_individual[node_map[node1_id]]\n",
    " \n",
    "    return {\n",
    "        individual_map[ind_id]: (node_map[node1_id], node_map[node2_id])\n",
    "        for ind_id, (node1_id, node2_id)  in pop.items()\n",
    "    }\n",
    "\n",
    "\n",
    "def diploid_sim(diploid_pop_size, generations, simplification_interval=None, show=None):\n",
    "    tables = tskit.TableCollection(sequence_length)\n",
    "    simplify_modulo = generations % simplification_interval\n",
    "    tables.time_units = \"generations\"  # optional, but helpful when plotting\n",
    "\n",
    "    pop = initialise_pop(tables, generations, diploid_pop_size)\n",
    "    while generations > 0:\n",
    "        generations = generations - 1\n",
    "        pop = new_pop(tables, generations, pop)\n",
    "        if generations > 0 and generations % simplification_interval == simplify_modulo:\n",
    "            current_nodes = [u for genomes in pop.values() for u in genomes]\n",
    "            pop = simplify_tables(tables, current_nodes, pop)\n",
    "            if show:\n",
    "                print(\"Simplified\", generations, \"generations before end\")\n",
    "\n",
    "    pop = simplify_tables(tables, [u for genomes in pop.values() for u in genomes], pop)\n",
    "    if show:\n",
    "        print(\"Final simplification\")\n",
    "    return tables.tree_sequence()\n",
    "\n",
    "ts = diploid_sim(6, 100, simplification_interval=25, show=True)\n",
    "ts.draw_svg(size=(800, 200))"
   ]
  },
  {
   "cell_type": "code",
   "execution_count": null,
   "id": "118e1dbe-ac6c-4605-94a2-360fa01016f4",
   "metadata": {},
   "outputs": [],
   "source": []
  },
  {
   "cell_type": "code",
   "execution_count": null,
   "id": "6c6acd8e-3bf8-4e83-b296-683dd48c997d",
   "metadata": {},
   "outputs": [],
   "source": [
    "from tqdm.autonotebook import tqdm\n",
    "random = np.random.default_rng(42)\n",
    "ts = diploid_sim(50, 500, simplification_interval=1)\n",
    "display(ts.draw_svg(size=(2000, 200), time_scale=\"log_time\"))\n",
    "# Iterate over a range of \n",
    "# odd and even simplification\n",
    "# intervals.\n",
    "for i in tqdm(np.arange(2, 500, 33)):\n",
    "    # Make sure each new sim starts with same random seed!\n",
    "    random = np.random.default_rng(42)\n",
    "    ts_test = diploid_sim(50, 500, simplification_interval=i)\n",
    "    if not ts.equals(ts_test, ignore_provenance=True):\n",
    "        display(ts_test.draw_svg(size=(2000, 200), time_scale=\"log_time\"))\n",
    "        raise ValueError\n"
   ]
  },
  {
   "cell_type": "code",
   "execution_count": null,
   "id": "a4043bb3-c0b2-47ba-8f71-0b5bc58d2cea",
   "metadata": {},
   "outputs": [],
   "source": []
  },
  {
   "cell_type": "code",
   "execution_count": null,
   "id": "099e48b3-29a8-4089-b2b2-00b0ebfd4429",
   "metadata": {},
   "outputs": [],
   "source": []
  },
  {
   "cell_type": "code",
   "execution_count": null,
   "id": "1c5b8d78-9bef-4d3b-9c1d-198b9d4bdfd9",
   "metadata": {},
   "outputs": [],
   "source": []
  }
 ],
 "metadata": {
  "kernelspec": {
   "display_name": "Python 3 (ipykernel)",
   "language": "python",
   "name": "python3"
  },
  "language_info": {
   "codemirror_mode": {
    "name": "ipython",
    "version": 3
   },
   "file_extension": ".py",
   "mimetype": "text/x-python",
   "name": "python",
   "nbconvert_exporter": "python",
   "pygments_lexer": "ipython3",
   "version": "3.10.11"
  }
 },
 "nbformat": 4,
 "nbformat_minor": 5
}
